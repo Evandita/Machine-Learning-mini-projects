{
 "cells": [
  {
   "cell_type": "markdown",
   "metadata": {},
   "source": [
    "# Machine Learning - Bob the Builder\n",
    "\n",
    "Building a Logistic Regression model."
   ]
  },
  {
   "cell_type": "markdown",
   "metadata": {},
   "source": [
    "## Task\n",
    "\n",
    "You are given a feature matrix and a single datapoint to predict. Your job will be to build a Logistic Regression model with the feature matrix and make a prediction (1 or 0) of the single datapoint."
   ]
  },
  {
   "cell_type": "markdown",
   "metadata": {},
   "source": [
    "## Input Format\n",
    "\n",
    "First line: Number of data points in the feature matrix (n)\n",
    "\n",
    "Next n lines: Values of the row in the feature matrix, separated by spaces\n",
    "\n",
    "Next line: Target values separated by spaces\n",
    "\n",
    "Final line: Values (separated by spaces) of a single datapoint without a target value"
   ]
  },
  {
   "cell_type": "markdown",
   "metadata": {},
   "source": [
    "## Output Format\n",
    "\n",
    "Either 1 or 0"
   ]
  },
  {
   "cell_type": "markdown",
   "metadata": {},
   "source": [
    "## Sample Input\n",
    "\n",
    "```txt\n",
    "6\n",
    "1 3\n",
    "3 5\n",
    "5 7\n",
    "3 1\n",
    "5 3\n",
    "7 5\n",
    "1 1 1 0 0 0\n",
    "2 4\n",
    "```"
   ]
  },
  {
   "cell_type": "markdown",
   "metadata": {},
   "source": [
    "## Sample Output\n",
    "\n",
    "```txt\n",
    "1\n",
    "```"
   ]
  },
  {
   "cell_type": "markdown",
   "metadata": {},
   "source": [
    "# Program"
   ]
  },
  {
   "cell_type": "code",
   "execution_count": null,
   "metadata": {},
   "outputs": [],
   "source": [
    "from sklearn.linear_model import LogisticRegression\n",
    "\n",
    "n = int(input())\n",
    "X = []\n",
    "\n",
    "for i in range(n):\n",
    "    X.append([float(x) for x in input().split()])\n",
    "    \n",
    "y = [int(x) for x in input().split()]\n",
    "datapoint = [float(x) for x in input().split()]\n",
    "\n",
    "model = LogisticRegression(solver='liblinear')\n",
    "model.fit(X, y)\n",
    "print(model.predict([datapoint])[0])"
   ]
  }
 ],
 "metadata": {
  "kernelspec": {
   "display_name": "Python 3",
   "language": "python",
   "name": "python3"
  },
  "language_info": {
   "name": "python",
   "version": "3.12.0"
  }
 },
 "nbformat": 4,
 "nbformat_minor": 2
}
